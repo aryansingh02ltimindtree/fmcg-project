{
 "cells": [
  {
   "cell_type": "code",
   "execution_count": 6,
   "id": "cb657a92",
   "metadata": {},
   "outputs": [
    {
     "name": "stdout",
     "output_type": "stream",
     "text": [
      "                                         instruction input  \\\n",
      "0  Write exactly 2 short, human-like FMCG bullets...         \n",
      "1  Write exactly 2 short, human-like FMCG bullets...         \n",
      "2  Write exactly 2 short, human-like FMCG bullets...         \n",
      "3  Write exactly 1 short, human-like brand-pair b...         \n",
      "4  Write exactly 1 short, human-like brand-pair b...         \n",
      "\n",
      "                                              output  \n",
      "0  • The biscuits market in India up by 1.8% YoY ...  \n",
      "1  • In India biscuits was unchanged 1.8% Nov 202...  \n",
      "2  • Across India, biscuits was flat 1.8% Nov 202...  \n",
      "3  • The beverages market in India, Splash has a ...  \n",
      "4  • In India beverages, Splash edges past Hydra:...  \n"
     ]
    }
   ],
   "source": [
    "import json\n",
    "import pandas as pd\n",
    "\n",
    "data = []\n",
    "with open(\"data\\\\nlg_insights_train_48m6.jsonl\", \"r\", encoding=\"utf-8\") as f:\n",
    "    for line in f:\n",
    "        # Parse each JSON object in the line and add it to the list\n",
    "        data.append(json.loads(line))\n",
    "\n",
    "# Convert the list of JSON objects to a DataFrame\n",
    "df = pd.DataFrame(data)\n",
    "print(df.head())"
   ]
  },
  {
   "cell_type": "code",
   "execution_count": 8,
   "id": "c4872622",
   "metadata": {},
   "outputs": [],
   "source": [
    "df.to_csv(\"data\\\\nlg_insights_train_48m6.csv\", index=False)"
   ]
  },
  {
   "cell_type": "code",
   "execution_count": 11,
   "id": "1c7eefa0",
   "metadata": {},
   "outputs": [],
   "source": [
    "df['output'].to_csv(\"data\\\\nlg_insights_train_48m6_output.csv\", index=False)"
   ]
  },
  {
   "cell_type": "code",
   "execution_count": null,
   "id": "a27ca933",
   "metadata": {},
   "outputs": [],
   "source": []
  }
 ],
 "metadata": {
  "kernelspec": {
   "display_name": ".venv",
   "language": "python",
   "name": "python3"
  },
  "language_info": {
   "codemirror_mode": {
    "name": "ipython",
    "version": 3
   },
   "file_extension": ".py",
   "mimetype": "text/x-python",
   "name": "python",
   "nbconvert_exporter": "python",
   "pygments_lexer": "ipython3",
   "version": "3.13.6"
  }
 },
 "nbformat": 4,
 "nbformat_minor": 5
}
