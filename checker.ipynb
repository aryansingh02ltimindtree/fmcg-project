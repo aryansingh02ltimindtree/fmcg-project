{
 "cells": [
  {
   "cell_type": "code",
   "execution_count": 18,
   "id": "cb657a92",
   "metadata": {},
   "outputs": [
    {
     "data": {
      "text/plain": [
       "'Write exactly 1 short, human-like brand-pair bullet from the JSON. Mention sales (₹ Cr), shares (%), and YoY if present. Use readable dates.\\n\\nJSON:\\n{\"task\": \"brand_pair\", \"category\": \"Biscuits\", \"market\": \"India\", \"brand_a\": \"Gamma\", \"brand_b\": \"Alpha\", \"mat_cr_a\": 1.312, \"mat_cr_b\": 1.723, \"share_a\": 0.235, \"share_b\": 0.3087, \"yoy_a\": 0.0114, \"yoy_b\": -0.0006}'"
      ]
     },
     "execution_count": 18,
     "metadata": {},
     "output_type": "execute_result"
    }
   ],
   "source": [
    "import json\n",
    "import pandas as pd\n",
    "\n",
    "df = pd.read_json(\"C:\\\\Users\\\\T8567\\\\Python related stuff\\\\myproject\\\\data\\\\nlg_insights_train_48m6.jsonl\", lines=True)\n",
    "df['instruction'][10]"
   ]
  },
  {
   "cell_type": "code",
   "execution_count": 8,
   "id": "c4872622",
   "metadata": {},
   "outputs": [],
   "source": [
    "df.to_csv(\"data\\\\nlg_insights_train_48m6.csv\", index=False)"
   ]
  },
  {
   "cell_type": "code",
   "execution_count": 11,
   "id": "1c7eefa0",
   "metadata": {},
   "outputs": [],
   "source": [
    "df['output'].to_csv(\"data\\\\nlg_insights_train_48m6_output.csv\", index=False)"
   ]
  },
  {
   "cell_type": "code",
   "execution_count": null,
   "id": "a27ca933",
   "metadata": {},
   "outputs": [],
   "source": []
  }
 ],
 "metadata": {
  "kernelspec": {
   "display_name": ".venv",
   "language": "python",
   "name": "python3"
  },
  "language_info": {
   "codemirror_mode": {
    "name": "ipython",
    "version": 3
   },
   "file_extension": ".py",
   "mimetype": "text/x-python",
   "name": "python",
   "nbconvert_exporter": "python",
   "pygments_lexer": "ipython3",
   "version": "3.13.6"
  }
 },
 "nbformat": 4,
 "nbformat_minor": 5
}
